{
 "cells": [
  {
   "cell_type": "markdown",
   "id": "af324ad9",
   "metadata": {},
   "source": [
    "Step 1: Load the Dataset and Initial Examination"
   ]
  },
  {
   "cell_type": "code",
   "execution_count": null,
   "id": "e7a26de0",
   "metadata": {},
   "outputs": [],
   "source": [
    "import pandas as pd\n",
    "import plotly.express as px\n",
    "import matplotlib.pyplot as plt\n",
    "import seaborn as sns"
   ]
  },
  {
   "cell_type": "code",
   "execution_count": null,
   "id": "7a6db152",
   "metadata": {},
   "outputs": [],
   "source": [
    "# Load the dataset\n",
    "df = pd.read_csv(r\"C:\\Users\\eakli\\Downloads\\task\\ecole\\paris-trees\\data\\p2-arbres-fr.csv\", delimiter=\";\")"
   ]
  },
  {
   "cell_type": "code",
   "execution_count": null,
   "id": "e9a89d2d",
   "metadata": {},
   "outputs": [],
   "source": [
    "# Preview the first few rows of the dataset\n",
    "preview = df.head()\n",
    "preview"
   ]
  },
  {
   "cell_type": "code",
   "execution_count": null,
   "id": "9c2f46d9",
   "metadata": {},
   "outputs": [],
   "source": [
    "# Determine the size of the dataset (number of rows and columns)\n",
    "data_size = df.shape\n",
    "print('data_size of', data_size)"
   ]
  },
  {
   "cell_type": "code",
   "execution_count": null,
   "id": "1e9d7b77",
   "metadata": {},
   "outputs": [],
   "source": [
    "# Display the types of data in each column\n",
    "data_types = df.dtypes\n",
    "data_types"
   ]
  },
  {
   "cell_type": "code",
   "execution_count": null,
   "id": "da7727d4",
   "metadata": {},
   "outputs": [],
   "source": [
    "# Extracting numerical and categorical column names based on their data types\n",
    "numerical_columns = df.select_dtypes(include=['int64', 'float64']).columns.tolist()\n",
    "categorical_columns = df.select_dtypes(include=['object']).columns.tolist()\n",
    "\n",
    "numerical_columns "
   ]
  },
  {
   "cell_type": "code",
   "execution_count": null,
   "id": "0e367e8d",
   "metadata": {},
   "outputs": [],
   "source": [
    "categorical_columns"
   ]
  },
  {
   "cell_type": "code",
   "execution_count": null,
   "id": "04c4445a",
   "metadata": {},
   "outputs": [],
   "source": [
    "# Descriptive statistics for numerical columns\n",
    "numerical_stats = df[numerical_columns].describe()\n",
    "\n",
    "\n",
    "numerical_stats"
   ]
  },
  {
   "cell_type": "markdown",
   "id": "5eb19d13",
   "metadata": {},
   "source": [
    "#### Descriptive Statistics for Numerical Columns\n",
    "- The dataset contains 200,137 entries. Notably, the `numero` column is completely empty and has been ignored in our analysis.\n",
    "- **Circumference (cm)**: Ranges from 0 to 250,255 with a mean of approximately 83.38 cm, suggesting a wide variety of tree sizes. The large maximum value may indicate outliers or data entry errors.\n",
    "- **Height (m)**: Ranges from 0 to 881,818 with a mean height of approximately 13.11 meters, which also suggests possible outliers or errors given the unrealistic maximum height.\n",
    "- **Remarkable**: Only a very small fraction (mean = 0.001343) of the trees are marked as remarkable, with most trees not having this designation (0).\n",
    "\n",
    "The numerical data analysis reveals potential issues with outliers in the `circonference_cm` and `hauteur_m` columns that may require further investigation and cleaning. \n",
    "\n",
    "This analysis provides a strong foundation for deeper dives into specific aspects of the dataset, such as outlier management, remarkable trees, and biodiversity patterns. \n",
    "\n"
   ]
  },
  {
   "cell_type": "markdown",
   "id": "fce26845",
   "metadata": {},
   "source": [
    "#### Categorical Overview\n",
    "\n",
    "For the categorical columns, we'll examine the unique values and their frequencies to understand the diversity within those fields, focusing on columns like `arrondissement`, `genre`, and `espece` which are likely to offer insights into the geographical and biological diversity of the trees."
   ]
  },
  {
   "cell_type": "code",
   "execution_count": null,
   "id": "305fb3ee",
   "metadata": {},
   "outputs": [],
   "source": [
    "# Overview of unique values in some key categorical columns\n",
    "unique_values_arrondissement = df['arrondissement'].nunique()\n",
    "unique_values_genre = df['genre'].nunique()\n",
    "unique_values_espece = df['espece'].nunique()\n",
    "\n",
    "unique_values_arrondissement, unique_values_genre, unique_values_espece"
   ]
  },
  {
   "cell_type": "markdown",
   "id": "39fb98b6",
   "metadata": {},
   "source": [
    "- **Arrondissement**: There are 25 unique arrondissements represented in the dataset, indicating a good geographical spread across Paris.\n",
    "- **Genus (`genre`)**: 175 unique genera are present, showcasing a broad biodiversity.\n",
    "- **Species (`espece`)**: Even more diverse, with 539 unique species, highlighting the rich variety of trees in the city."
   ]
  },
  {
   "cell_type": "markdown",
   "id": "b56ee3aa",
   "metadata": {},
   "source": [
    "### Step 3: Missing Data Analysis\n",
    "\n",
    "In this step, we'll conduct a thorough analysis of the missing data within the dataset. Understanding the nature and extent of missingness is crucial for informed data cleaning and preprocessing decisions. Our objectives include:\n",
    "\n",
    "- **Identifying Missing Values**: Quantify missing values across all columns to identify which fields are most affected.\n",
    "- **Missing Data Patterns**: Explore if there are any patterns or correlations in the missing data, which could indicate underlying issues or relationships."
   ]
  },
  {
   "cell_type": "code",
   "execution_count": null,
   "id": "425cb651",
   "metadata": {},
   "outputs": [],
   "source": [
    "# Calculate the count of missing values per column\n",
    "missing_values_count  = df.isnull().sum()\n",
    "\n",
    "#calculate the percentage of missing values per column\n",
    "missing_values_percentage = (df.isnull().sum() / len(df)) * 100\n",
    "\n",
    "# Combine count and percentage of missing values into a DataFrame for better readability\n",
    "missing_data_analysis = pd.DataFrame({\n",
    "    'Missing Values Count': missing_values_count,\n",
    "    'Missing Values Percentage': missing_values_percentage\n",
    "})"
   ]
  },
  {
   "cell_type": "code",
   "execution_count": null,
   "id": "4e6df413",
   "metadata": {},
   "outputs": [],
   "source": [
    "missing_data_analysis.sort_values(by='Missing Values Percentage', ascending=False)\n"
   ]
  },
  {
   "cell_type": "markdown",
   "id": "7a1ae5db",
   "metadata": {},
   "source": [
    "\n",
    "\n",
    "###  Summary of Missing Data Analysis\n",
    "\n",
    "The analysis of missing data reveals significant insights into the dataset's completeness:\n",
    "\n",
    "- **100% Missing**: The `numero` column is entirely missing, indicating it may not provide any value to our analysis and could be considered for removal.\n",
    "- **Highly Missing Data**:\n",
    "  - `complement_addresse`: 84.56% missing, suggesting that address details are frequently not recorded.\n",
    "  - `variete`: 81.62% missing, indicating that the variety of many tree species is not documented.\n",
    "- **Moderately Missing Data**:\n",
    "  - `stade_developpement`: 33.58% missing, showing that developmental stage information is often unavailable.\n",
    "  - `remarquable`: 31.53% missing, which impacts the analysis focusing on remarkable trees. It's worth considering a strategy to handle or impute these missing values, depending on our analysis needs.\n",
    "- **Low Missing Data**:\n",
    "  - `espece` (Species) and `libelle_francais` (Common French Name) have less than 1% missing values, indicating good overall data quality for these biodiversity indicators.\n",
    "  - `genre` (Genus) has a negligible amount of missing data.\n",
    "- **No Missing Data**: Essential columns like `id`, `type_emplacement`, `domanialite`, `arrondissement`, and size measurements (`circonference_cm`, `hauteur_m`) are complete, ensuring a solid foundation for analyses related to tree location, size, and general classification.\n",
    "\n",
    "Given these findings, our next steps in data cleaning may involve deciding on handling or removing columns with substantial missing data, especially `numero`, `complement_addresse`, and `variete`. For columns with moderate missing data like `stade_developpement` and `remarquable`, we may explore imputation strategies or accept the missingness based on our analytical goals."
   ]
  },
  {
   "cell_type": "markdown",
   "id": "9440693d",
   "metadata": {},
   "source": [
    "The numero column is entirely null and can be dropped.\n",
    "Columns like complement_addresse and variete have a high number of missing values.\n",
    "The remarquable column, indicating whether a tree is considered remarkable, has missing values that need addressing.\n",
    "\n",
    "\n",
    "Handling Missing Values:\n",
    "\n",
    "For complement_addresse and variete, due to their high volume of missing data, we need to decide based on the analysis goal whether to keep these columns.\n",
    "Impute or flag missing values in libelle_francais, genre, espece, and stade_developpement as needed.\n",
    "For remarquable, assume missing values indicate non-remarkable trees (i.e., fill missing with 0) unless specified otherwise.\n",
    "Checking for Outliers in circonference_cm and hauteur_m, given the range of values observed in the descriptive statistics."
   ]
  },
  {
   "cell_type": "markdown",
   "id": "f786b8bc",
   "metadata": {},
   "source": [
    "### Step 4: Data Cleaning\n",
    "\n",
    "Based on the insights from our missing data analysis, we'll undertake the following data cleaning actions:\n",
    "\n",
    "1. **Remove Irrelevant Columns**: Drop columns with a high percentage of missing values that are not critical to our analysis (e.g., `numero`).\n",
    "2. **Handle Missing Values in Key Columns**: \n",
    "   - For `remarquable`, consider imputing missing values with the most common value (likely 0, since remarkable trees are rare) or leaving them as is, depending on the analysis focus.\n",
    "   - Investigate if missing `variete` and `complement_addresse` values can be ignored for our analysis goals or if there's a meaningful way to impute them.\n",
    "3. **Correct Data Inconsistencies**: Ensure categorical data like `genre`, `espece`, and `arrondissement` are consistent for further analysis.\n",
    "4. **Outlier Detection and Handling**: Briefly revisit the numerical columns, especially `circonference_cm` and `hauteur_m`, to identify and address any outliers.\n",
    "\n",
    "Let's begin with steps 1 and 2: removing irrelevant columns and handling missing values in the `remarquable` column.\n",
    "\n",
    "#### Step 4.1: Remove Irrelevant Columns\n",
    "\n",
    "We'll start by dropping the `numero` column due to its 100% missing data rate, which suggests it holds no useful information for our analysis."
   ]
  },
  {
   "cell_type": "code",
   "execution_count": null,
   "id": "53b6820d",
   "metadata": {},
   "outputs": [],
   "source": [
    "# Step 4.1: Remove Irrelevant Columns\n",
    "columns_to_drop = ['numero']  # Identified as entirely missing\n",
    "data_cleaned = df.drop(columns=columns_to_drop)\n",
    "\n",
    "# Step 4.2: Handle Missing Values in 'remarquable'\n",
    "# Given the binary nature of 'remarquable' and its significance, we'll impute missing values with 0 (assuming non-remarkable)\n",
    "data_cleaned['remarquable'] = data_cleaned['remarquable'].fillna(0)\n",
    "\n",
    "# Check the updated dataset information to confirm changes\n",
    "data_cleaned_info = data_cleaned.info()\n",
    "\n",
    "data_cleaned_info"
   ]
  },
  {
   "cell_type": "markdown",
   "id": "51f9de6b",
   "metadata": {},
   "source": [
    "### Step 4.3: Outlier Detection and Handling\n",
    "\n",
    "Outliers can significantly affect the results of data analysis and statistical modeling. We'll focus on detecting and handling outliers in the `circonference_cm` and `hauteur_m` columns, as these measurements are crucial for understanding the physical characteristics of the trees.\n",
    "\n",
    "#### Outlier Detection Strategy\n",
    "A common approach for outlier detection is to use the IQR (Interquartile Range) method, where data points are considered outliers if they fall below the 1st quartile - 1.5 * IQR or above the 3rd quartile + 1.5 * IQR. However, given the nature of this dataset, we may also consider domain-specific knowledge to set realistic thresholds for tree circumference and height.\n",
    "\n",
    "#### Handling Strategy\n",
    "For detected outliers, we will cap them at predetermined reasonable maximum values based on domain knowledge or replace them with NaN to be handled by subsequent imputation strategies if applicable.\n",
    "\n",
    "Let's begin with the outlier detection for `circonference_cm` and `hauteur_m`."
   ]
  },
  {
   "cell_type": "code",
   "execution_count": null,
   "id": "40b553e3",
   "metadata": {},
   "outputs": [],
   "source": [
    "# Calculate IQR for 'circonference_cm' and 'hauteur_m'\n",
    "Q1 = data_cleaned[['circonference_cm', 'hauteur_m']].quantile(0.25)\n",
    "Q3 = data_cleaned[['circonference_cm', 'hauteur_m']].quantile(0.75)\n",
    "IQR = Q3 - Q1\n",
    "\n",
    "# Define outliers using the IQR method, but also consider domain knowledge for setting realistic thresholds\n",
    "outlier_thresholds = {\n",
    "    'circonference_cm': {'lower': Q1.circonference_cm - 1.5 * IQR.circonference_cm, 'upper': Q3.circonference_cm + 1.5 * IQR.circonference_cm},\n",
    "    'hauteur_m': {'lower': Q1.hauteur_m - 1.5 * IQR.hauteur_m, 'upper': Q3.hauteur_m + 1.5 * IQR.hauteur_m}\n",
    "}\n",
    "\n",
    "# However, given the nature of tree data, applying domain knowledge to adjust these if necessary\n",
    "# For the sake of this analysis, we'll consider extreme values that are clearly beyond possible physical dimensions as outliers\n",
    "# Adjusting the upper limit based on reasonable assumptions (e.g., max height of 30 meters and max circumference of 500 cm)\n",
    "outlier_thresholds['circonference_cm']['upper'] = 500\n",
    "outlier_thresholds['hauteur_m']['upper'] = 30\n",
    "\n",
    "# Apply capping for outliers\n",
    "data_cleaned['circonference_cm'] = data_cleaned['circonference_cm'].clip(upper=outlier_thresholds['circonference_cm']['upper'])\n",
    "data_cleaned['hauteur_m'] = data_cleaned['hauteur_m'].clip(upper=outlier_thresholds['hauteur_m']['upper'])\n",
    "\n",
    "# Check the max values after capping to confirm changes\n",
    "max_values_after_capping = data_cleaned[['circonference_cm', 'hauteur_m']].max()\n",
    "\n",
    "max_values_after_capping\n"
   ]
  },
  {
   "cell_type": "markdown",
   "id": "68bccf3e",
   "metadata": {},
   "source": [
    "\n",
    "### Step 4.3: Outlier Handling - Summary\n",
    "\n",
    "The outlier detection and handling for `circonference_cm` and `hauteur_m` have been completed with the following adjustments:\n",
    "- **Circumference (`circonference_cm`)**: Values have been capped at 500 cm, considered a reasonable upper limit for tree circumference based on domain knowledge.\n",
    "- **Height (`hauteur_m`)**: Values have been capped at 30 meters, aligning with realistic tree heights.\n",
    "\n",
    "These thresholds ensure that our dataset now reflects more plausible physical characteristics of trees, eliminating extreme values that could distort our analysis.\n",
    "\n",
    "### Next Steps\n",
    "\n",
    "With the outliers addressed, we can proceed to:\n",
    "- **Correct Data Inconsistencies**: Ensure that categorical data is consistent (e.g., standardizing the format of `arrondissement` names).\n",
    "- **Convert Data Types**: Specifically, convert the `remarquable` column from `float64` to `int` or `bool` to accurately reflect its binary nature."
   ]
  },
  {
   "cell_type": "markdown",
   "id": "75931edc",
   "metadata": {},
   "source": [
    "Step 3: Descriptive Statistics (Post-Cleaning)"
   ]
  },
  {
   "cell_type": "code",
   "execution_count": null,
   "id": "51e85e14",
   "metadata": {},
   "outputs": [],
   "source": [
    "# Identifying the 99th percentile for 'circonference_cm' and 'hauteur_m' as cap thresholds\n",
    "percentile_99 = data_cleaned[[\"circonference_cm\", \"hauteur_m\"]].quantile(0.99)"
   ]
  },
  {
   "cell_type": "code",
   "execution_count": null,
   "id": "419da707",
   "metadata": {},
   "outputs": [],
   "source": [
    "#capping outliers for the 99th percentile values\n",
    "for column in ['circonference_cm', 'hauteur_m']:\n",
    "    cap_value = percentile_99[column]\n",
    "    data_cleaned[column] = data_cleaned[column].clip(upper=cap_value)"
   ]
  },
  {
   "cell_type": "code",
   "execution_count": null,
   "id": "69710265",
   "metadata": {},
   "outputs": [],
   "source": [
    "#re-check descriptive statistics to confrm the effect of capping\n",
    "outlier_handled_stats = data_cleaned[[\"circonference_cm\", \"hauteur_m\"]].describe()\n",
    "\n",
    "outlier_handled_stats"
   ]
  },
  {
   "cell_type": "markdown",
   "id": "c716d8f2",
   "metadata": {},
   "source": [
    "### Step 4.4: Correct Data Inconsistencies\n",
    "\n",
    "Inconsistencies in categorical data can lead to misinterpretation and inaccurate analyses. We'll focus on ensuring that the data within categorical columns is consistently formatted and accurately reflects the intended information. Specifically, we'll standardize the format of `arrondissement` names and check for inconsistencies in `genre` and `espece` (genus and species) columns.\n",
    "\n",
    "#### Standardizing `arrondissement` Names\n",
    "\n",
    "We aim to ensure that all `arrondissement` entries follow a consistent naming convention, which might involve trimming whitespace, standardizing capitalization, or correcting typos.\n",
    "\n",
    "#### Ensuring Consistency in `genre` and `espece`\n",
    "\n",
    "For the `genre` and `espece` columns, we'll look for and correct any obvious typos or inconsistencies in naming, such as varying capitalization or common misspellings.\n",
    "\n",
    "Let's start with standardizing `arrondissement` names and then move on to check `genre` and `espece`.\n",
    "\n",
    "### Step 4.4: Data Inconsistency Corrections - Summary\n",
    "\n",
    "#### Standardization Results\n",
    "\n",
    "- **`arrondissement`**: Names have been standardized for consistency. The format now uniformly capitalizes the first letter, which should aid in accurate grouping and analysis by district. The array shows a mix of Parisian arrondissements and some entries for nearby departments (e.g., `Val-de-marne`, `Seine-saint-denis`, `Hauts-de-seine`) and specific areas (`Bois de boulogne`, `Bois de vincennes`), indicating the dataset's geographic diversity.\n",
    "  \n",
    "- **`genre` (Genus) and `espece` (Species)**: Both have been capitalized to ensure consistency. The sample of unique values confirms that the standardization has been applied, facilitating accurate species-level analysis and biodiversity assessments.\n",
    "\n",
    "### Step 4.5: Convert Data Types\n",
    "\n",
    "Next, we'll address the data type of the `remarquable` column. Since it represents a binary condition (remarkable or not), converting it to an integer or boolean type would more accurately reflect its nature and facilitate analysis.\n",
    "\n",
    "Let's proceed with converting the `remarquable` column to an integer type to denote its binary status clearly.\n"
   ]
  },
  {
   "cell_type": "code",
   "execution_count": null,
   "id": "5a71b78f",
   "metadata": {},
   "outputs": [],
   "source": [
    "# Standardize 'arrondissement' names: capitalize and remove any leading/trailing whitespace\n",
    "data_cleaned['arrondissement'] = data_cleaned['arrondissement'].str.strip().str.capitalize()\n",
    "\n",
    "# Assuming 'genre' and 'espece' require consistency in capitalization\n",
    "data_cleaned['genre'] = data_cleaned['genre'].str.capitalize()\n",
    "data_cleaned['espece'] = data_cleaned['espece'].str.capitalize()\n",
    "\n",
    "# Check for unique values in 'arrondissement', 'genre', and 'espece' to confirm standardization\n",
    "unique_values_check = {\n",
    "    'arrondissement': data_cleaned['arrondissement'].unique(),\n",
    "    'genre': data_cleaned['genre'].unique()[:5],  # Displaying a sample for brevity\n",
    "    'espece': data_cleaned['espece'].unique()[:5]\n",
    "}\n",
    "\n",
    "unique_values_check\n"
   ]
  },
  {
   "cell_type": "code",
   "execution_count": null,
   "id": "751c1d76",
   "metadata": {},
   "outputs": [],
   "source": [
    "# Convert 'remarquable' to integer type (from float, after imputation of missing values)\n",
    "data_cleaned['remarquable'] = data_cleaned['remarquable'].astype(int)\n",
    "\n",
    "# Verify the change in data type for 'remarquable'\n",
    "data_type_remarquable = data_cleaned['remarquable'].dtype\n",
    "\n",
    "data_type_remarquable\n"
   ]
  },
  {
   "cell_type": "markdown",
   "id": "fdb67e79",
   "metadata": {},
   "source": [
    "### Step 4.5: Data Type Conversion - Summary\n",
    "\n",
    "The `remarquable` column has been successfully converted to an integer (`int64`) data type, accurately reflecting its binary status (0 for not remarkable, 1 for remarkable). This conversion enhances the dataset's semantic clarity and facilitates any analysis focusing on remarkable trees.\n",
    "\n",
    "### Steps Completed\n",
    "- **Removed irrelevant columns**: Specifically, the `numero` column.\n",
    "- **Handled missing values**: Filled missing values in `remarquable` and standardized `arrondissement`, `genre`, and `espece`.\n",
    "- **Addressed outliers**: Capped outliers in `circonference_cm` and `hauteur_m`.\n",
    "- **Corrected data inconsistencies**: Standardized text data for consistency.\n",
    "- **Converted data types**: Changed `remarquable` from float to integer to reflect its binary nature."
   ]
  },
  {
   "cell_type": "code",
   "execution_count": null,
   "id": "f0809905",
   "metadata": {},
   "outputs": [],
   "source": [
    "# Define a function to categorize trees based on height\n",
    "def categorize_tree_size(height):\n",
    "    if height < 5:\n",
    "        return 'Small'\n",
    "    elif height <= 15:\n",
    "        return 'Medium'\n",
    "    else:\n",
    "        return 'Large'\n",
    "\n",
    "# Apply the function to create a new column 'size_category'\n",
    "data_cleaned['size_category'] = data_cleaned['hauteur_m'].apply(categorize_tree_size)\n",
    "\n",
    "# Check the distribution of the new 'size_category' feature\n",
    "size_category_distribution = data_cleaned['size_category'].value_counts()\n",
    "\n",
    "size_category_distribution\n"
   ]
  },
  {
   "cell_type": "markdown",
   "id": "ced274ce",
   "metadata": {},
   "source": [
    "\n",
    "### Step 5: Feature Engineering - Summary\n",
    "\n",
    "A new feature, **`size_category`**, has been successfully created to categorize trees into 'Small', 'Medium', or 'Large' based on their height. The distribution of these categories within the dataset is as follows:\n",
    "\n",
    "- **Medium**: 128,875 trees (Height between 5 and 15 meters)\n",
    "- **Small**: 48,913 trees (Height < 5 meters)\n",
    "- **Large**: 22,349 trees (Height > 15 meters)\n",
    "\n",
    "This categorization reveals that the majority of trees in the dataset are of medium size, which aligns with urban tree management practices where trees are often kept to manageable sizes due to spatial constraints.\n",
    "\n",
    "The `size_category` feature can now be used in further analysis to examine patterns or correlations between tree size and other variables, such as species diversity, arrondissement distribution, or the likelihood of being designated as remarkable."
   ]
  },
  {
   "cell_type": "code",
   "execution_count": null,
   "id": "c52e2303",
   "metadata": {},
   "outputs": [],
   "source": [
    "# Visualize the distribution of tree sizes across arrondissements\n",
    "plt.figure(figsize=(15, 8))\n",
    "sns.countplot(data=data_cleaned, x='arrondissement', hue='size_category', palette='viridis', order = data_cleaned['arrondissement'].value_counts().index)\n",
    "plt.xticks(rotation=45, ha=\"right\")\n",
    "plt.title('Tree Size Distribution by Arrondissement')\n",
    "plt.xlabel('Arrondissement')\n",
    "plt.ylabel('Number of Trees')\n",
    "plt.legend(title='Size Category')\n",
    "plt.tight_layout()  # Adjust layout to not cut off labels\n",
    "plt.show()\n"
   ]
  },
  {
   "cell_type": "code",
   "execution_count": null,
   "id": "ca7bc3aa",
   "metadata": {},
   "outputs": [],
   "source": [
    "# Visualize the proportion of remarkable trees within each size category\n",
    "remarkable_size_distribution = data_cleaned.groupby('size_category')['remarquable'].mean()\n",
    "\n",
    "# Plotting the proportion of remarkable trees by size category\n",
    "plt.figure(figsize=(8, 6))\n",
    "remarkable_size_distribution.plot(kind='bar', color=['skyblue', 'orange', 'green'])\n",
    "plt.title('Proportion of Remarkable Trees by Size Category')\n",
    "plt.xlabel('Size Category')\n",
    "plt.ylabel('Proportion of Remarkable Trees')\n",
    "plt.xticks(rotation=45)\n",
    "plt.show()\n",
    "\n"
   ]
  },
  {
   "cell_type": "markdown",
   "id": "e96d5dcf",
   "metadata": {},
   "source": [
    "\n",
    "### Analysis Plan\n",
    "1. **Size Distribution by Arrondissement**: Understand if certain arrondissements favor the growth or planting of trees of specific sizes.\n",
    "2. **Size and Remarkability**: Examine if there's a correlation between the size of the trees and their designation as remarkable.\n",
    "\n",
    "Let's start with the **Size Distribution by Arrondissement**.\n",
    "\n",
    "#### 1. Size Distribution by Arrondissement\n",
    "\n",
    "The visualization shows the distribution of tree sizes (`Small`, `Medium`, `Large`) across different arrondissements in Paris. This distribution may highlight trends such as certain arrondissements favoring larger trees possibly due to more available space or specific urban planning policies.\n",
    "\n",
    "### Analysis of Size and Remarkability\n",
    "\n",
    "Next, we'll examine the relationship between tree size and its designation as remarkable. This analysis will help us understand if larger trees are more likely to be considered remarkable, which could inform conservation or urban planning efforts.\n",
    "\n",
    "#### 2. Size and Remarkability Analysis\n",
    "\n",
    "The bar chart illustrates the proportion of remarkable trees within each size category (`Small`, `Medium`, `Large`). This visualization provides insights into whether tree size influences its likelihood of being designated as remarkable.\n",
    "\n",
    "### Insights from Size Category Exploration\n",
    "\n",
    "- **Size Distribution by Arrondissement**: The distribution across arrondissements shows variance in the prevalence of different tree sizes, suggesting that urban planning, available space, and possibly historical planting decisions impact the tree size landscape of each district.\n",
    "  \n",
    "- **Size and Remarkability**: The proportion of remarkable trees by size category could indicate trends in conservation priorities or the natural tendency for larger trees to be more unique or ecologically valuable. The visualization suggests a pattern worth exploring further, especially in the context of urban biodiversity and tree conservation strategies.\n",
    "\n",
    "These analyses underscore the utility of the `size_category` feature in providing additional layers of insight into the urban forest structure. Such categorizations can help in identifying areas for focused conservation efforts, understanding urban planning impacts, and guiding future tree planting initiatives.\n",
    "\n"
   ]
  },
  {
   "cell_type": "code",
   "execution_count": null,
   "id": "afd375ec",
   "metadata": {},
   "outputs": [],
   "source": [
    "# Aggregate data to count unique species within each size category\n",
    "species_diversity_by_size = data_cleaned.groupby('size_category')['espece'].nunique()\n",
    "\n",
    "# Plotting the number of unique species by size category\n",
    "plt.figure(figsize=(8, 6))\n",
    "species_diversity_by_size.plot(kind='bar', color=['skyblue', 'orange', 'green'])\n",
    "plt.title('Species Diversity by Tree Size Category')\n",
    "plt.xlabel('Size Category')\n",
    "plt.ylabel('Number of Unique Species')\n",
    "plt.xticks(rotation=0)  # Keep the labels horizontal for readability\n",
    "plt.show()\n"
   ]
  },
  {
   "cell_type": "markdown",
   "id": "0f8fc295",
   "metadata": {},
   "source": [
    "To delve deeper into the exploration of the `size_category` feature, we can conduct further analyses that might reveal more nuanced insights. Here are a few directions we can take:\n",
    "\n",
    "1. **Correlation with Other Features**: Investigate if there's a correlation between tree size and other features such as the species (`espece`), genus (`genre`), or even the specific location (`arrondissement`).\n",
    "\n",
    "2. **Size and Species Diversity**: Analyze how tree size correlates with species diversity. Are larger trees more likely to belong to certain species?\n",
    "\n",
    "3. **Geographical Distribution of Tree Sizes**: Explore if certain geographical areas within Paris or specific arrondissements have a higher concentration of large trees, which could indicate areas of significant environmental or historical value.\n",
    "\n",
    "4. **Remarkable Trees Size Analysis**: Take a closer look at the remarkable trees within each size category to understand if their size contributes to their remarkability status.\n",
    "\n",
    "Given these options, let's start with **Size and Species Diversity** to see if there's a notable relationship between the size of the trees and their species diversity.\n",
    "\n",
    "### Size and Species Diversity Analysis\n",
    "\n",
    "We'll aggregate the data to count the number of unique species within each size category and then visualize this information to understand the biodiversity relation to tree size.\n",
    "\n",
    "The bar chart illustrates the number of unique species within each tree size category (`Small`, `Medium`, `Large`). This analysis provides insights into the relationship between tree size and species diversity within the dataset.\n",
    "\n",
    "### Insights from Size and Species Diversity Analysis\n",
    "\n",
    "- The chart suggests that there's a variation in species diversity across different size categories. This could indicate that certain species tend to grow to specific sizes under urban conditions, or it might reflect planting preferences or conservation efforts aimed at particular species.\n",
    "\n",
    "### Next Steps in the Deep Dive\n",
    "\n",
    "Following the exploration of species diversity across tree sizes, we could explore other aspects such as:\n",
    "- **Geographical Distribution of Tree Sizes**: To identify if large trees are concentrated in specific arrondissements or areas within Paris.\n",
    "- **Remarkable Trees Size Analysis**: To further understand if size significantly influences the likelihood of a tree being designated as remarkable.\n",
    "\n"
   ]
  },
  {
   "cell_type": "code",
   "execution_count": null,
   "id": "f2407405",
   "metadata": {},
   "outputs": [],
   "source": [
    "# Create the choropleth map\n",
    "# fig = px.scatter_mapbox(df, \n",
    "#                         lat=\"geo_point_2d_a\", \n",
    "#                         lon=\"geo_point_2d_b\", \n",
    "#                         hover_name=\"libelle_francais\",\n",
    "#                         hover_data=[\"arrondissement\"],\n",
    "#                         color=\"arrondissement\",  # Set marker color\n",
    "#                         zoom=10,  # Adjust the initial zoom level\n",
    "#                         mapbox_style=\"open-street-map\")  # Use OpenStreetMap as the map background\n",
    "\n",
    "# # Update layout\n",
    "# fig.update_layout(title=\"Trees in Paris\",\n",
    "#                   margin=dict(l=0, r=0, t=50, b=0))\n",
    "\n",
    "# # Show the plot\n",
    "# fig.show()"
   ]
  },
  {
   "cell_type": "code",
   "execution_count": null,
   "id": "59f63d2e",
   "metadata": {},
   "outputs": [],
   "source": [
    "# Count of tree sizes within each arrondissement\n",
    "size_distribution_by_arrondissement = data_cleaned.groupby(['arrondissement', 'size_category']).size().unstack(fill_value=0)\n",
    "\n",
    "# Plotting the distribution of tree sizes across arrondissements\n",
    "size_distribution_by_arrondissement.plot(kind='bar', stacked=True, figsize=(14, 8), colormap='viridis')\n",
    "plt.title('Geographical Distribution of Tree Sizes by Arrondissement')\n",
    "plt.xlabel('Arrondissement')\n",
    "plt.ylabel('Number of Trees')\n",
    "plt.legend(title='Size Category')\n",
    "plt.xticks(rotation=45)\n",
    "plt.show()\n"
   ]
  },
  {
   "cell_type": "code",
   "execution_count": null,
   "id": "7e2b83a3",
   "metadata": {},
   "outputs": [],
   "source": [
    "# Analyzing the proportion of remarkable trees within each size category\n",
    "remarkable_by_size = data_cleaned.groupby('size_category')['remarquable'].mean()\n",
    "\n",
    "# Plotting the proportion of remarkable trees by size category\n",
    "plt.figure(figsize=(8, 6))\n",
    "remarkable_by_size.plot(kind='bar', color=['skyblue', 'orange', 'green'])\n",
    "plt.title('Proportion of Remarkable Trees by Size Category')\n",
    "plt.xlabel('Size Category')\n",
    "plt.ylabel('Proportion of Remarkable Trees')\n",
    "plt.xticks(rotation=0)  # Keep the labels horizontal for readability\n",
    "plt.show()\n"
   ]
  },
  {
   "cell_type": "markdown",
   "id": "c4606ab4",
   "metadata": {},
   "source": [
    "\n",
    "### 1. Geographical Distribution of Tree Sizes\n",
    "\n",
    "This analysis aims to identify if large trees are more concentrated in specific arrondissements or areas within Paris, suggesting regions of particular environmental or historical value, or possibly reflecting varying urban planning strategies.\n",
    "\n",
    "### 2. Remarkable Trees Size Analysis\n",
    "\n",
    "Here, we'll investigate if there's a significant relationship between the size of trees (categorized as `Small`, `Medium`, `Large`) and their likelihood of being designated as remarkable. This could highlight conservation priorities or unique characteristics of Paris's remarkable trees.\n",
    "\n",
    "Let's start with the **Geographical Distribution of Tree Sizes**.\n",
    "\n",
    "#### Geographical Distribution of Tree Sizes Analysis\n",
    "\n",
    "The stacked bar chart illustrates the geographical distribution of tree sizes (`Small`, `Medium`, `Large`) across different arrondissements in Paris. This visualization helps identify arrondissements with higher concentrations of large trees, which may be of particular environmental or historical value or reflect specific urban forestry strategies.\n",
    "\n",
    "### Insights from Geographical Distribution of Tree Sizes\n",
    "\n",
    "- Certain arrondissements appear to have a higher proportion of large trees, potentially indicating areas with older growth, larger parks, or specific conservation efforts.\n",
    "- The distribution also reflects the urban tree management strategy across Paris, where space availability and historical planning decisions influence tree size diversity.\n",
    "\n",
    "Now, let's proceed with the **Remarkable Trees Size Analysis** to understand the relationship between tree size and their designation as remarkable.\n",
    "\n",
    "The bar chart presents the proportion of remarkable trees within each size category (`Small`, `Medium`, `Large`). This analysis is crucial for understanding if there's a notable relationship between the size of trees and their likelihood of being designated as remarkable.\n",
    "\n",
    "### Insights from Remarkable Trees Size Analysis\n",
    "\n",
    "- The chart provides a visual representation of how tree size correlates with the designation of being remarkable. Although the specific proportions are not labeled in this summary, the visualization suggests that there might be a trend where larger trees have a higher likelihood of being considered remarkable, which aligns with the intuitive expectation that larger, possibly older trees may possess more unique or valuable characteristics warranting their remarkable status.\n",
    "\n",
    "### Concluding Insights\n",
    "\n",
    "- **Geographical Distribution of Tree Sizes**: We observed variations in the distribution of tree sizes across different arrondissements, indicating areas with significant environmental or historical value and reflecting urban planning and tree management strategies.\n",
    "\n",
    "- **Remarkable Trees Size Analysis**: The analysis suggests a potential correlation between tree size and remarkability, with larger trees possibly having a higher likelihood of being considered remarkable.\n",
    "\n",
    "These analyses deepen our understanding of the urban forest in Paris, highlighting the importance of size and location in the conservation and appreciation of trees. Further investigations could explore specific species within the large and remarkable categories or examine the impact of environmental factors on tree growth and health.\n"
   ]
  },
  {
   "cell_type": "code",
   "execution_count": null,
   "id": "9df8edfa",
   "metadata": {},
   "outputs": [],
   "source": [
    "\n",
    "# Adjusting the dataframe for visualization\n",
    "df = data_cleaned.copy()\n",
    "\n",
    "# For a more insightful visualization, let's mark remarkable trees distinctly\n",
    "# We could add a new column to differentiate remarkable trees for coloring\n",
    "df['remarkable_display'] = df['remarquable'].apply(lambda x: 'Remarkable' if x == 1 else 'Not Remarkable')\n",
    "df['size_and_remarkable'] = df['size_category'] + ' - ' + df['remarkable_display']\n",
    "\n",
    "# Create the scatter mapbox plot\n",
    "fig = px.scatter_mapbox(df, \n",
    "                        lat=\"geo_point_2d_a\", \n",
    "                        lon=\"geo_point_2d_b\", \n",
    "                        hover_name=\"libelle_francais\",\n",
    "                        hover_data=[\"arrondissement\", \"size_category\", \"remarkable_display\"],\n",
    "                        color=\"size_and_remarkable\",  # Color by size category and remarkable status\n",
    "                        zoom=10,  # Adjust the initial zoom level\n",
    "                        mapbox_style=\"open-street-map\", # Use OpenStreetMap as the map background\n",
    "                        category_orders={\"size_and_remarkable\": [\"Small - Not Remarkable\", \"Medium - Not Remarkable\", \"Large - Not Remarkable\", \"Small - Remarkable\", \"Medium - Remarkable\", \"Large - Remarkable\"]}  # Order the legend\n",
    "                       )\n",
    "\n",
    "# Update layout\n",
    "fig.update_layout(title=\"Distribution of Trees in Paris by Size and Remarkability\",\n",
    "                  margin=dict(l=0, r=0, t=50, b=0))\n",
    "\n",
    "# Show the plot\n",
    "fig.show()\n"
   ]
  },
  {
   "cell_type": "markdown",
   "id": "e9f00600",
   "metadata": {},
   "source": [
    "### Visualization: Tree Size Categories and Remarkable Trees on a Map\n",
    "\n",
    "\n",
    "Given the insights we're aiming to derive—particularly around the geographical distribution of tree sizes and the presence of remarkable trees—we can use a scatter map to visualize the location of trees in Paris, coloring the markers based on tree size categories or the remarkable status, and using arrondissement information in the hover data to provide context.\n",
    "\n",
    "Let's focus on visualizing trees with distinctions for **tree size categories** and **remarkable trees**. This will give us a visual representation of where larger or remarkable trees are concentrated in Paris.\n",
    "\n",
    "\n",
    "\n"
   ]
  },
  {
   "cell_type": "markdown",
   "id": "b746a4d8",
   "metadata": {},
   "source": [
    "# ## 6.4 Arrondissement-wise Tree Biodiversity Analysis\n",
    "This analysis aims to explore the biodiversity of trees within each Paris arrondissement by analyzing the variety of species and genera present. Understanding the biodiversity across arrondissements can highlight areas with significant ecological diversity, contributing valuable insights for conservation efforts, urban planning, and the enhancement of green spaces.\n",
    "\n",
    "Approach\n",
    "Species Diversity per Arrondissement: Calculate the number of unique tree species (espece) within each arrondissement.\n",
    "Genera Diversity per Arrondissement: Calculate the number of unique tree genera (genre) within each arrondissement.\n",
    "Visualize Biodiversity: Create visualizations to compare the biodiversity (both species and genera diversity) across arrondissements."
   ]
  },
  {
   "cell_type": "code",
   "execution_count": null,
   "id": "1504a9d5",
   "metadata": {},
   "outputs": [],
   "source": [
    "# Calculate the number of unique species and genera within each arrondissement\n",
    "species_diversity= data_cleaned.groupby('arrondissement')['espece'].nunique().sort_values(ascending=False)\n",
    "genera_diversity = data_cleaned.groupby('arrondissement')['genre'].nunique().sort_values(ascending=False)\n",
    "\n",
    "# Display the top results directly for both species and genera diversity\n",
    "species_diversity.head(), genera_diversity.head()"
   ]
  },
  {
   "cell_type": "code",
   "execution_count": null,
   "id": "5a51bdeb",
   "metadata": {},
   "outputs": [],
   "source": [
    "# Visualization of species diversity per arrondissement\n",
    "plt.figure(figsize=(14, 7))\n",
    "species_diversity.plot(kind='bar', color='skyblue')\n",
    "plt.title('Species Diversity per Arrondissement')\n",
    "plt.xlabel('Arrondissement')\n",
    "plt.ylabel('Number of Unique Species')\n",
    "plt.xticks(rotation=45)\n",
    "plt.show()\n",
    "\n"
   ]
  },
  {
   "cell_type": "code",
   "execution_count": null,
   "id": "4f88088d",
   "metadata": {},
   "outputs": [],
   "source": [
    "# Visualization of genera diversity per arrondissement\n",
    "plt.figure(figsize=(14, 7))\n",
    "genera_diversity.plot(kind='bar', color='green')\n",
    "plt.title('Genera Diversity per Arrondissement')\n",
    "plt.xlabel('Arrondissement')\n",
    "plt.ylabel('Number of Unique Genera')\n",
    "plt.xticks(rotation=45)\n",
    "plt.show()\n"
   ]
  },
  {
   "cell_type": "markdown",
   "id": "9f1173eb",
   "metadata": {},
   "source": [
    "### Visualizations: Tree Biodiversity Analysis\n",
    "\n",
    "The bar charts visually illustrate the biodiversity within each arrondissement in Paris, measured by the number of unique species and genera.\n",
    "\n",
    "#### Species Diversity per Arrondissement\n",
    "- **Bois de Vincennes** stands out as the area with the highest species diversity, followed by **Paris 16e Arrdt**. This suggests these areas are significant biodiversity hotspots within Paris, likely benefiting from larger green spaces or specialized planting strategies.\n",
    "\n",
    "#### Genera Diversity per Arrondissement\n",
    "- Similar to species diversity, **Paris 16e Arrdt** and **Bois de Vincennes** exhibit the highest genera diversity, indicating a broad range of tree families and contributing to the ecological complexity and resilience of these urban green spaces.\n",
    "\n",
    "### Insights from Visualization\n",
    "- The visualizations confirm the textual summary, highlighting areas of Paris with rich biodiversity. These areas can serve as critical points for ecological studies, conservation efforts, and public engagement with urban nature.\n",
    "- The diversity in **Bois de Vincennes** and certain arrondissements like the **16e** underscores the importance of preserving these green spaces for their ecological value and the well-being of city residents.\n",
    "\n",
    "\n"
   ]
  },
  {
   "cell_type": "code",
   "execution_count": null,
   "id": "e86045db",
   "metadata": {},
   "outputs": [],
   "source": []
  },
  {
   "cell_type": "markdown",
   "id": "1b972bac",
   "metadata": {},
   "source": [
    "\n",
    "### Further Exploration\n",
    "Given these insights into tree biodiversity across Paris's arrondissements, further analysis could investigate the specific conditions contributing to high biodiversity in these areas, such as park size, microclimates, or historical planting decisions. Additionally, exploring the relationship between biodiversity and other environmental or social factors could yield further valuable insights into urban ecology."
   ]
  },
  {
   "cell_type": "code",
   "execution_count": null,
   "id": "e967b80c",
   "metadata": {},
   "outputs": [],
   "source": [
    "# Aggregate tree size and remarkable status by arrondissement for correlation analysis\n",
    "arrondissement_aggregates = data_cleaned.groupby('arrondissement').agg({\n",
    "    'circonference_cm': 'mean',  # Average circumference per arrondissement\n",
    "    'hauteur_m': 'mean',  # Average height per arrondissement\n",
    "    'remarquable': 'mean',  # Proportion of remarkable trees per arrondissement\n",
    "    'espece': 'nunique',  # Species diversity as previously calculated\n",
    "    'genre': 'nunique'  # Genera diversity as previously calculated\n",
    "}).reset_index()\n",
    "\n",
    "# Rename columns for clarity\n",
    "arrondissement_aggregates.rename(columns={\n",
    "    'espece': 'species_diversity',\n",
    "    'genre': 'genera_diversity',\n",
    "    'circonference_cm': 'avg_circumference',\n",
    "    'hauteur_m': 'avg_height',\n",
    "    'remarquable': 'proportion_remarkable'\n",
    "}, inplace=True)\n",
    "\n",
    "# Calculate correlation matrix to explore relationships\n",
    "correlation_matrix = arrondissement_aggregates[['avg_circumference', 'avg_height', 'proportion_remarkable', 'species_diversity', 'genera_diversity']].corr()\n",
    "\n",
    "correlation_matrix\n"
   ]
  },
  {
   "cell_type": "markdown",
   "id": "d3e58465",
   "metadata": {},
   "source": [
    "\n",
    "\n",
    "### Correlation Analysis: Tree Characteristics and Biodiversity Metrics\n",
    "\n",
    "We'll examine the relationship between tree size (as approximated by `circonference_cm` and `hauteur_m`), remarkable status, and biodiversity within arrondissements. This analysis aims to identify if larger or remarkable trees are more common in areas with high biodiversity, suggesting a potential link between tree conservation efforts and biodiversity outcomes.\n",
    "\n",
    "#### Preparing Data for Correlation Analysis\n",
    "Since our biodiversity metrics are aggregated at the arrondissement level, we'll first need to aggregate tree size and remarkable status by arrondissement to perform this analysis effectively.\n",
    "\n",
    "### Correlation Analysis: Tree Characteristics and Biodiversity Metrics - Summary\n",
    "\n",
    "The correlation matrix provides insights into the relationships between average tree size (circumference and height), the proportion of remarkable trees, and biodiversity (species and genera diversity) within each arrondissement:\n",
    "\n",
    "- **Tree Size and Biodiversity**:\n",
    "  - **Average Circumference**: Shows a moderate positive correlation with the proportion of remarkable trees (`0.56`), suggesting larger trees are more likely to be designated as remarkable. Its correlation with genera diversity is also notable (`0.34`).\n",
    "  - **Average Height**: Exhibits a strong positive correlation with species diversity (`0.61`), indicating that arrondissements with taller trees tend to have higher species diversity. The correlation with genera diversity is similarly positive (`0.34`).\n",
    "\n",
    "- **Remarkable Trees and Biodiversity**:\n",
    "  - The proportion of remarkable trees has a positive correlation with genera diversity (`0.18`), albeit weaker than some other correlations, indicating a mild relationship between tree remarkability and biodiversity at the genera level.\n",
    "\n",
    "- **Species and Genera Diversity**:\n",
    "  - A very high correlation (`0.92`) between species and genera diversity suggests that arrondissements with a wide variety of species also tend to have a broad range of genera, underscoring the interconnectedness of these biodiversity metrics.\n",
    "\n",
    "### Insights and Implications\n",
    "\n",
    "- **Conservation and Urban Planning**: The positive correlations between tree size, particularly height, and biodiversity metrics highlight the ecological value of fostering diverse and mature urban forests. Conservation efforts that protect larger, older trees may also support broader biodiversity objectives.\n",
    "- **Remarkable Trees**: The relationship between the proportion of remarkable trees and biodiversity, while present, is less pronounced than some might expect. This may reflect the specific criteria used to designate trees as remarkable, which could include historical or cultural factors in addition to ecological characteristics.\n",
    "\n",
    "### Further Exploration\n",
    "\n",
    "Given these findings, further analysis could delve into:\n",
    "- **Qualitative Factors**: Exploring non-quantitative factors contributing to high biodiversity, such as historical planting decisions or specific conservation policies.\n",
    "- **Spatial Analysis**: Using geographical data to map biodiversity and tree characteristics across Paris, potentially uncovering spatial patterns or ecological hotspots not evident from aggregated data alone.\n"
   ]
  },
  {
   "cell_type": "code",
   "execution_count": null,
   "id": "1dc591bc",
   "metadata": {},
   "outputs": [],
   "source": [
    "\n",
    "# Plotting trees with color coding for biodiversity or size\n",
    "fig = px.scatter_mapbox(data_cleaned, \n",
    "                        lat=\"geo_point_2d_a\", \n",
    "                        lon=\"geo_point_2d_b\", \n",
    "                        color=\"size_category\",  # Or replace with a biodiversity metric\n",
    "                        hover_data=[\"arrondissement\", \"espece\", \"remarquable\"],\n",
    "                        zoom=12, \n",
    "                        height=600,\n",
    "                        mapbox_style=\"open-street-map\")\n",
    "\n",
    "fig.update_layout(title=\"Geographical Distribution of Trees in Paris\",\n",
    "                  margin={\"r\":0,\"t\":0,\"l\":0,\"b\":0})\n",
    "\n",
    "fig.show()"
   ]
  },
  {
   "cell_type": "code",
   "execution_count": null,
   "id": "32a133d7",
   "metadata": {},
   "outputs": [],
   "source": [
    "ena"
   ]
  }
 ],
 "metadata": {
  "kernelspec": {
   "display_name": "Python 3 (ipykernel)",
   "language": "python",
   "name": "python3"
  },
  "language_info": {
   "codemirror_mode": {
    "name": "ipython",
    "version": 3
   },
   "file_extension": ".py",
   "mimetype": "text/x-python",
   "name": "python",
   "nbconvert_exporter": "python",
   "pygments_lexer": "ipython3",
   "version": "3.11.5"
  }
 },
 "nbformat": 4,
 "nbformat_minor": 5
}
